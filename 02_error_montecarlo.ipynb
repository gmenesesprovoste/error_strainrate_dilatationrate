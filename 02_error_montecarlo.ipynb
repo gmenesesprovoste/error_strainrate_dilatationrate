{
 "cells": [
  {
   "cell_type": "markdown",
   "id": "d9d82349",
   "metadata": {},
   "source": [
    "This script calculates the mean and standard deviation of strain and dilatation rates based on iterations produced in the previous step.\n",
    "\n",
    "Input: iteration folders produced in the previous step. Modify variables: strainfile and tensorfile based on specific region. The user is prompted to enter the variables it and n (see below).\n",
    "\n",
    "Output: text file that contains <lon,lat,final_strain_rate,error_strain_rate,final_dilatation_rate,error_dilatation_rate>"
   ]
  },
  {
   "cell_type": "code",
   "execution_count": 2,
   "id": "ba8742a2",
   "metadata": {},
   "outputs": [],
   "source": [
    "import re,os,subprocess,glob\n",
    "import shutil\n",
    "import numpy as np\n",
    "import math\n",
    "import statistics"
   ]
  },
  {
   "cell_type": "code",
   "execution_count": 3,
   "id": "61e6539d",
   "metadata": {},
   "outputs": [
    {
     "name": "stdout",
     "output_type": "stream",
     "text": [
      "Enter number of iterations (folders): 5\n",
      "Enter number of solutions (gridpoints): 9500\n"
     ]
    }
   ],
   "source": [
    "localdir=os.getcwd()\n",
    "# based on nomenclature given in the previous script, give the name of strain and tensor files\n",
    "strainfile = \"italy_d02_q03_q08_b1_3D_s1_u0_strain.dat\"\n",
    "tensorfile = \"italy_d02_q03_q08_b1_3D_s1_u0_Dtensor_6entries.dat\"\n",
    "# \"it\" is the number of iterations generated in previous step and n is the number of gridpoints \n",
    "# (number of lines in strain file)\n",
    "it = int(input(\"Enter number of iterations (folders): \") or \"100\")\n",
    "n = int(input(\"Enter number of solutions (gridpoints): \") or \"8800\")\n",
    "SRmag = np.zeros((n,), dtype=(float,it))\n",
    "SRdil = np.zeros((n,), dtype=(float,it))\n"
   ]
  },
  {
   "cell_type": "code",
   "execution_count": 5,
   "id": "403b7351",
   "metadata": {},
   "outputs": [],
   "source": [
    "def get_num(fp):\n",
    "    num = fp.split(\"_\")[1][0:-1]\n",
    "    return int(num)"
   ]
  },
  {
   "cell_type": "code",
   "execution_count": 6,
   "id": "13d34185",
   "metadata": {},
   "outputs": [
    {
     "name": "stdout",
     "output_type": "stream",
     "text": [
      "\n",
      "---------------------------------------------------\n",
      "\n",
      "Working in directory it_0/...\n",
      "\n",
      "\n",
      "---------------------------------------------------\n",
      "\n",
      "Working in directory it_1/...\n",
      "\n",
      "\n",
      "---------------------------------------------------\n",
      "\n",
      "Working in directory it_2/...\n",
      "\n",
      "\n",
      "---------------------------------------------------\n",
      "\n",
      "Working in directory it_3/...\n",
      "\n",
      "\n",
      "---------------------------------------------------\n",
      "\n",
      "Working in directory it_4/...\n",
      "\n"
     ]
    }
   ],
   "source": [
    "# loop over iteration directories. mag variable corresponds to strain rate magnitude, \n",
    "#and dil variable is dilatation rate\n",
    "\n",
    "k = 0\n",
    "firstdir=\"\"\n",
    "for d in sorted(glob.glob(\"it*/\"),key=get_num):\n",
    "    i=0\n",
    "    print(\"\\n---------------------------------------------------\\n\")\n",
    "    print(\"Working in directory \"+d+\"...\\n\")\n",
    "    if i == 0:\n",
    "        firstdir=d\n",
    "    with open(localdir+\"/\"+d+tensorfile) as sfile:\n",
    "        for lin in sfile:\n",
    "            if \"Drr\" not in lin:\n",
    "              if lin:\n",
    "\n",
    "                Drr=float(lin.split()[0])\n",
    "                Drth=float(lin.split()[1])\n",
    "                Drph=float(lin.split()[2])\n",
    "                Dthr=float(lin.split()[1])\n",
    "                Dthth=float(lin.split()[3])\n",
    "                Dthph=float(lin.split()[4])\n",
    "                Dphr=float(lin.split()[2])\n",
    "                Dphth=float(lin.split()[4])\n",
    "                Dphph=float(lin.split()[5])\n",
    "                mag=math.sqrt((Drr*Drr)+(Dthth*Dthth)+(Dphph*Dphph)+2*(Drth*Drth)+2*(Drph*Drph)+2*(Dphth*Dphth))\n",
    "                dil=Drr + Dthth +  Dphph\n",
    "                #print(i,k)\n",
    "                SRmag[i,][k] = mag\n",
    "                SRdil[i,][k] = dil\n",
    "                #print(Drr,Drth,Dthth)\n",
    "                i += 1\n",
    "    k += 1\n"
   ]
  },
  {
   "cell_type": "code",
   "execution_count": 7,
   "id": "d5f96f1a",
   "metadata": {},
   "outputs": [],
   "source": [
    "#Estimating mean and error of strain rate and dilatation rate\n",
    "j = 0\n",
    "with open(\"error_mag_dil_strainrate_it\"+str(it)+\".dat\",\"w\") as outfile:\n",
    "    with open(localdir+\"/\"+firstdir+\"/\"+strainfile) as strain:\n",
    "        for l in strain:\n",
    "            if l:\n",
    "                lon = l.split()[0]\n",
    "                lat = l.split()[1]\n",
    "                mmag = statistics.mean(SRmag[j,])\n",
    "                smag = statistics.stdev(SRmag[j,])\n",
    "                mdil = statistics.mean(SRdil[j,])\n",
    "                sdil = statistics.stdev(SRdil[j,])\n",
    "                print(lon,lat,mmag,smag,mdil,sdil,file=outfile)\n",
    "                j += 1"
   ]
  }
 ],
 "metadata": {
  "kernelspec": {
   "display_name": "Python 3 (ipykernel)",
   "language": "python",
   "name": "python3"
  },
  "language_info": {
   "codemirror_mode": {
    "name": "ipython",
    "version": 3
   },
   "file_extension": ".py",
   "mimetype": "text/x-python",
   "name": "python",
   "nbconvert_exporter": "python",
   "pygments_lexer": "ipython3",
   "version": "3.7.11"
  }
 },
 "nbformat": 4,
 "nbformat_minor": 5
}
